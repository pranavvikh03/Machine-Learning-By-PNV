{
 "cells": [
  {
   "cell_type": "markdown",
   "metadata": {},
   "source": [
    "### Changing our working directory"
   ]
  },
  {
   "cell_type": "code",
   "execution_count": 21,
   "metadata": {},
   "outputs": [
    {
     "data": {
      "text/plain": [
       "'C:\\\\DS\\\\PYTHON_BASICS'"
      ]
     },
     "execution_count": 21,
     "metadata": {},
     "output_type": "execute_result"
    }
   ],
   "source": [
    "import os #import os library\n",
    "os.getcwd() # it returns current working directory\n",
    "os.chdir('C:\\\\DS\\\\PYTHON_BASICS') # it changes directory"
   ]
  },
  {
   "cell_type": "markdown",
   "metadata": {},
   "source": [
    "### Classes and Objects "
   ]
  },
  {
   "cell_type": "code",
   "execution_count": 8,
   "metadata": {},
   "outputs": [],
   "source": [
    "import matplotlib.pyplot as plt #import library for visualization graphs\n",
    "%matplotlib inline #used to display graph on same page"
   ]
  },
  {
   "cell_type": "code",
   "execution_count": 40,
   "metadata": {},
   "outputs": [],
   "source": [
    "class Circle(object):\n",
    "    def __init__(self,radius,color='blue'): #defining the data attributes for the class\n",
    "        self.radius=radius\n",
    "        self.color=color\n",
    "    \n",
    "    def add_radius(self,r): #method to add radius to the circle\n",
    "        self.radius=self.radius+r\n",
    "        self.drawCircle()\n",
    "    \n",
    "    def change_color(self,color): #method to change color of the circle\n",
    "        self.color=color\n",
    "        self.drawCircle()\n",
    "    \n",
    "    def drawCircle(self): #method to draw the circle and visualize it\n",
    "        plt.gca().add_patch(plt.Circle((0,0), radius=self.radius, fc=self.color))\n",
    "        plt.axis('scaled') #it is used to fit the graph in window properly\n",
    "        plt.show() #it is used to show the graph"
   ]
  },
  {
   "cell_type": "code",
   "execution_count": 42,
   "metadata": {},
   "outputs": [
    {
     "name": "stdout",
     "output_type": "stream",
     "text": [
      "10\n",
      "yellow\n"
     ]
    },
    {
     "data": {
      "image/png": "[encoded data removed]",
      "text/plain": [
       "<Figure size 432x288 with 1 Axes>"
      ]
     },
     "metadata": {
      "needs_background": "light"
     },
     "output_type": "display_data"
    },
    {
     "data": {
      "image/png": "[encoded data removed]",
      "text/plain": [
       "<Figure size 432x288 with 1 Axes>"
      ]
     },
     "metadata": {
      "needs_background": "light"
     },
     "output_type": "display_data"
    },
    {
     "data": {
      "image/png": "[encoded data removed]",
      "text/plain": [
       "<Figure size 432x288 with 1 Axes>"
      ]
     },
     "metadata": {
      "needs_background": "light"
     },
     "output_type": "display_data"
    }
   ],
   "source": [
    "redcircle=Circle(10,'yellow') #Created object\n",
    "\n",
    "dir(redcircle) #dir function returns attributes of object\n",
    "\n",
    "print(redcircle.radius)\n",
    "\n",
    "print(redcircle.color)\n",
    "\n",
    "redcircle.add_radius(50)\n",
    "\n",
    "redcircle.change_color(\"green\")\n",
    "\n",
    "bluecircle=Circle(75)\n",
    "\n",
    "bluecircle.drawCircle()"
   ]
  },
  {
   "cell_type": "code",
   "execution_count": 33,
   "metadata": {},
   "outputs": [
    {
     "name": "stdout",
     "output_type": "stream",
     "text": [
      "Radius of Object: 60\n",
      "Color of Object: green\n"
     ]
    }
   ],
   "source": [
    "print('Radius of Object:',redcircle.radius)\n",
    "print('Color of Object:',redcircle.color)"
   ]
  },
  {
   "cell_type": "code",
   "execution_count": 56,
   "metadata": {},
   "outputs": [],
   "source": [
    "class Rectangle(object):\n",
    "    def __init__(self,height,width,color='yellow'):\n",
    "        self.height=height\n",
    "        self.width=width\n",
    "        self.color=color\n",
    "    def drawReactangle(self):\n",
    "        plt.gca().add_patch(plt.Rectangle((0,0), height=self.height, width=self.width, color=self.color))\n",
    "        plt.axis('scaled')\n",
    "        plt.show()"
   ]
  },
  {
   "cell_type": "code",
   "execution_count": 61,
   "metadata": {},
   "outputs": [
    {
     "data": {
      "image/png": "[encoded data removed]",
      "text/plain": [
       "<Figure size 432x288 with 1 Axes>"
      ]
     },
     "metadata": {
      "needs_background": "light"
     },
     "output_type": "display_data"
    }
   ],
   "source": [
    "yellowRectangle=Rectangle(4500,80005,'red')\n",
    "yellowRectangle.drawReactangle()"
   ]
  },
  {
   "cell_type": "code",
   "execution_count": 68,
   "metadata": {},
   "outputs": [
    {
     "name": "stdout",
     "output_type": "stream",
     "text": [
      "Given year is leap or not: True\n"
     ]
    }
   ],
   "source": [
    "def is_leap(n):\n",
    "    if n%4==0:\n",
    "        return True\n",
    "        if n%400==0:\n",
    "            return True\n",
    "    else:\n",
    "        return False\n",
    "\n",
    "#print(is_leap(2521))\n",
    "print(\"Given year is leap or not:\",is_leap(2020))"
   ]
  },
  {
   "cell_type": "code",
   "execution_count": 69,
   "metadata": {},
   "outputs": [
    {
     "name": "stdout",
     "output_type": "stream",
     "text": [
      "x= A y= 2\n"
     ]
    }
   ],
   "source": [
    "class Points(object):\n",
    "    def __init__(self,x,y):\n",
    "        self.x=x\n",
    "        self.y=y\n",
    "    def print_point(self):\n",
    "        print('x=',self.x,'y=',self.y)\n",
    "p2=Points(1,2)\n",
    "p2.x='A'\n",
    "p2.print_point()"
   ]
  }
 ],
 "metadata": {
  "kernelspec": {
   "display_name": "Python 3",
   "language": "python",
   "name": "python3"
  },
  "language_info": {
   "codemirror_mode": {
    "name": "ipython",
    "version": 3
   },
   "file_extension": ".py",
   "mimetype": "text/x-python",
   "name": "python",
   "nbconvert_exporter": "python",
   "pygments_lexer": "ipython3",
   "version": "3.7.4"
  }
 },
 "nbformat": 4,
 "nbformat_minor": 2
}
